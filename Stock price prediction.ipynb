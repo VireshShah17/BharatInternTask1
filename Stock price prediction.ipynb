{
 "cells": [
  {
   "cell_type": "code",
   "execution_count": 1,
   "id": "833753ee",
   "metadata": {},
   "outputs": [],
   "source": [
    "import numpy as np\n",
    "import pandas as pd\n",
    "import matplotlib.pyplot as plt\n",
    "from sklearn.preprocessing import MinMaxScaler\n",
    "from tensorflow.keras.models import Sequential\n",
    "from tensorflow.keras.layers import LSTM, Dense"
   ]
  },
  {
   "cell_type": "code",
   "execution_count": 9,
   "id": "d4c98a71",
   "metadata": {},
   "outputs": [
    {
     "name": "stdout",
     "output_type": "stream",
     "text": [
      "         Date        Open        High         Low       Close   Adj Close  \\\n",
      "0  2022-08-08  284.049988  285.920013  279.320007  280.320007  277.636322   \n",
      "1  2022-08-09  279.640015  283.079987  277.609985  282.299988  279.597321   \n",
      "2  2022-08-10  288.170013  289.809998  286.940002  289.160004  286.391663   \n",
      "3  2022-08-11  290.850006  291.209991  286.510010  287.019989  284.272156   \n",
      "4  2022-08-12  288.480011  291.910004  286.940002  291.910004  289.115356   \n",
      "\n",
      "     Volume  \n",
      "0  18739200  \n",
      "1  23405200  \n",
      "2  24687800  \n",
      "3  20065900  \n",
      "4  22619700  \n",
      "           Date        Open        High         Low       Close   Adj Close  \\\n",
      "247  2023-08-02  333.630005  333.630005  326.359985  327.500000  327.500000   \n",
      "248  2023-08-03  326.000000  329.880005  325.950012  326.660004  326.660004   \n",
      "249  2023-08-04  331.880005  335.140015  327.239990  327.779999  327.779999   \n",
      "250  2023-08-07  328.369995  331.109985  327.519989  330.109985  330.109985   \n",
      "251  2023-08-08  326.959991  328.750000  323.000000  326.049988  326.049988   \n",
      "\n",
      "       Volume  \n",
      "247  27761300  \n",
      "248  18253700  \n",
      "249  23727700  \n",
      "250  17741500  \n",
      "251  22301200  \n"
     ]
    }
   ],
   "source": [
    "# Load and preprocess data\n",
    "data = pd.read_csv('MSFT.csv')\n",
    "print(data.head())\n",
    "print(data.tail())\n",
    "prices = data['Close'].values.reshape(-1, 1)\n",
    "scaler = MinMaxScaler()\n",
    "scaled_prices = scaler.fit_transform(prices)"
   ]
  },
  {
   "cell_type": "code",
   "execution_count": 4,
   "id": "ad1a5992",
   "metadata": {},
   "outputs": [],
   "source": [
    "# Create sequences and target variable\n",
    "sequence_length = 10\n",
    "sequences = []\n",
    "targets = []\n",
    "for i in range(len(scaled_prices) - sequence_length):\n",
    "    sequences.append(scaled_prices[i:i+sequence_length])\n",
    "    targets.append(scaled_prices[i+sequence_length])\n",
    "\n",
    "X = np.array(sequences)\n",
    "y = np.array(targets)"
   ]
  },
  {
   "cell_type": "code",
   "execution_count": 5,
   "id": "e32ba400",
   "metadata": {},
   "outputs": [],
   "source": [
    "# Split data into training and testing sets\n",
    "split = int(0.8 * len(X))\n",
    "X_train, X_test = X[:split], X[split:]\n",
    "y_train, y_test = y[:split], y[split:]"
   ]
  },
  {
   "cell_type": "code",
   "execution_count": 6,
   "id": "98ae48dc",
   "metadata": {},
   "outputs": [
    {
     "name": "stdout",
     "output_type": "stream",
     "text": [
      "Epoch 1/50\n",
      "7/7 [==============================] - 1s 35ms/step - loss: 0.1201 - val_loss: 0.5559\n",
      "Epoch 2/50\n",
      "7/7 [==============================] - 0s 10ms/step - loss: 0.0757 - val_loss: 0.3520\n",
      "Epoch 3/50\n",
      "7/7 [==============================] - 0s 9ms/step - loss: 0.0388 - val_loss: 0.1503\n",
      "Epoch 4/50\n",
      "7/7 [==============================] - 0s 9ms/step - loss: 0.0129 - val_loss: 0.0254\n",
      "Epoch 5/50\n",
      "7/7 [==============================] - 0s 9ms/step - loss: 0.0113 - val_loss: 0.0106\n",
      "Epoch 6/50\n",
      "7/7 [==============================] - 0s 8ms/step - loss: 0.0097 - val_loss: 0.0248\n",
      "Epoch 7/50\n",
      "7/7 [==============================] - 0s 9ms/step - loss: 0.0081 - val_loss: 0.0232\n",
      "Epoch 8/50\n",
      "7/7 [==============================] - 0s 8ms/step - loss: 0.0072 - val_loss: 0.0156\n",
      "Epoch 9/50\n",
      "7/7 [==============================] - 0s 9ms/step - loss: 0.0060 - val_loss: 0.0049\n",
      "Epoch 10/50\n",
      "7/7 [==============================] - 0s 8ms/step - loss: 0.0051 - val_loss: 0.0037\n",
      "Epoch 11/50\n",
      "7/7 [==============================] - 0s 9ms/step - loss: 0.0043 - val_loss: 0.0038\n",
      "Epoch 12/50\n",
      "7/7 [==============================] - 0s 10ms/step - loss: 0.0042 - val_loss: 0.0079\n",
      "Epoch 13/50\n",
      "7/7 [==============================] - 0s 9ms/step - loss: 0.0037 - val_loss: 0.0141\n",
      "Epoch 14/50\n",
      "7/7 [==============================] - 0s 9ms/step - loss: 0.0036 - val_loss: 0.0182\n",
      "Epoch 15/50\n",
      "7/7 [==============================] - 0s 9ms/step - loss: 0.0037 - val_loss: 0.0134\n",
      "Epoch 16/50\n",
      "7/7 [==============================] - 0s 9ms/step - loss: 0.0039 - val_loss: 0.0182\n",
      "Epoch 17/50\n",
      "7/7 [==============================] - 0s 10ms/step - loss: 0.0036 - val_loss: 0.0318\n",
      "Epoch 18/50\n",
      "7/7 [==============================] - 0s 11ms/step - loss: 0.0039 - val_loss: 0.0245\n",
      "Epoch 19/50\n",
      "7/7 [==============================] - 0s 10ms/step - loss: 0.0036 - val_loss: 0.0129\n",
      "Epoch 20/50\n",
      "7/7 [==============================] - 0s 9ms/step - loss: 0.0036 - val_loss: 0.0204\n",
      "Epoch 21/50\n",
      "7/7 [==============================] - 0s 9ms/step - loss: 0.0035 - val_loss: 0.0125\n",
      "Epoch 22/50\n",
      "7/7 [==============================] - 0s 9ms/step - loss: 0.0035 - val_loss: 0.0179\n",
      "Epoch 23/50\n",
      "7/7 [==============================] - 0s 9ms/step - loss: 0.0035 - val_loss: 0.0196\n",
      "Epoch 24/50\n",
      "7/7 [==============================] - 0s 9ms/step - loss: 0.0041 - val_loss: 0.0208\n",
      "Epoch 25/50\n",
      "7/7 [==============================] - 0s 9ms/step - loss: 0.0037 - val_loss: 0.0043\n",
      "Epoch 26/50\n",
      "7/7 [==============================] - 0s 11ms/step - loss: 0.0041 - val_loss: 0.0127\n",
      "Epoch 27/50\n",
      "7/7 [==============================] - 0s 9ms/step - loss: 0.0039 - val_loss: 0.0382\n",
      "Epoch 28/50\n",
      "7/7 [==============================] - 0s 9ms/step - loss: 0.0037 - val_loss: 0.0119\n",
      "Epoch 29/50\n",
      "7/7 [==============================] - 0s 7ms/step - loss: 0.0034 - val_loss: 0.0223\n",
      "Epoch 30/50\n",
      "7/7 [==============================] - 0s 8ms/step - loss: 0.0035 - val_loss: 0.0135\n",
      "Epoch 31/50\n",
      "7/7 [==============================] - 0s 11ms/step - loss: 0.0033 - val_loss: 0.0134\n",
      "Epoch 32/50\n",
      "7/7 [==============================] - 0s 12ms/step - loss: 0.0033 - val_loss: 0.0124\n",
      "Epoch 33/50\n",
      "7/7 [==============================] - 0s 10ms/step - loss: 0.0033 - val_loss: 0.0091\n",
      "Epoch 34/50\n",
      "7/7 [==============================] - 0s 8ms/step - loss: 0.0034 - val_loss: 0.0099\n",
      "Epoch 35/50\n",
      "7/7 [==============================] - 0s 10ms/step - loss: 0.0033 - val_loss: 0.0140\n",
      "Epoch 36/50\n",
      "7/7 [==============================] - 0s 9ms/step - loss: 0.0033 - val_loss: 0.0143\n",
      "Epoch 37/50\n",
      "7/7 [==============================] - 0s 11ms/step - loss: 0.0033 - val_loss: 0.0096\n",
      "Epoch 38/50\n",
      "7/7 [==============================] - 0s 11ms/step - loss: 0.0033 - val_loss: 0.0180\n",
      "Epoch 39/50\n",
      "7/7 [==============================] - 0s 11ms/step - loss: 0.0034 - val_loss: 0.0169\n",
      "Epoch 40/50\n",
      "7/7 [==============================] - 0s 8ms/step - loss: 0.0032 - val_loss: 0.0069\n",
      "Epoch 41/50\n",
      "7/7 [==============================] - 0s 8ms/step - loss: 0.0034 - val_loss: 0.0095\n",
      "Epoch 42/50\n",
      "7/7 [==============================] - 0s 8ms/step - loss: 0.0032 - val_loss: 0.0147\n",
      "Epoch 43/50\n",
      "7/7 [==============================] - 0s 8ms/step - loss: 0.0032 - val_loss: 0.0172\n",
      "Epoch 44/50\n",
      "7/7 [==============================] - 0s 12ms/step - loss: 0.0031 - val_loss: 0.0138\n",
      "Epoch 45/50\n",
      "7/7 [==============================] - 0s 11ms/step - loss: 0.0031 - val_loss: 0.0142\n",
      "Epoch 46/50\n",
      "7/7 [==============================] - 0s 9ms/step - loss: 0.0031 - val_loss: 0.0179\n",
      "Epoch 47/50\n",
      "7/7 [==============================] - 0s 7ms/step - loss: 0.0036 - val_loss: 0.0195\n",
      "Epoch 48/50\n",
      "7/7 [==============================] - 0s 8ms/step - loss: 0.0032 - val_loss: 0.0084\n",
      "Epoch 49/50\n",
      "7/7 [==============================] - 0s 8ms/step - loss: 0.0033 - val_loss: 0.0312\n",
      "Epoch 50/50\n",
      "7/7 [==============================] - 0s 9ms/step - loss: 0.0035 - val_loss: 0.0215\n"
     ]
    },
    {
     "data": {
      "text/plain": [
       "<keras.src.callbacks.History at 0x14f1037a760>"
      ]
     },
     "execution_count": 6,
     "metadata": {},
     "output_type": "execute_result"
    }
   ],
   "source": [
    "# Build and train the LSTM model\n",
    "model = Sequential()\n",
    "model.add(LSTM(50, activation='relu', input_shape=(sequence_length, 1)))\n",
    "model.add(Dense(1))\n",
    "model.compile(optimizer='adam', loss='mean_squared_error')\n",
    "model.fit(X_train, y_train, epochs=50, batch_size=32, validation_data=(X_test, y_test))"
   ]
  },
  {
   "cell_type": "code",
   "execution_count": 7,
   "id": "db2babd0",
   "metadata": {},
   "outputs": [
    {
     "name": "stdout",
     "output_type": "stream",
     "text": [
      "2/2 [==============================] - 0s 11ms/step\n"
     ]
    }
   ],
   "source": [
    "# Make predictions\n",
    "predicted_prices = model.predict(X_test)\n",
    "predicted_prices = scaler.inverse_transform(predicted_prices)\n",
    "actual_prices = scaler.inverse_transform(y_test)"
   ]
  },
  {
   "cell_type": "code",
   "execution_count": 8,
   "id": "4f04a823",
   "metadata": {},
   "outputs": [
    {
     "data": {
      "image/png": "[encoded data removed]",
      "text/plain": [
       "<Figure size 640x480 with 1 Axes>"
      ]
     },
     "metadata": {},
     "output_type": "display_data"
    }
   ],
   "source": [
    "# Visualize results\n",
    "plt.plot(actual_prices, label='Actual Prices')\n",
    "plt.plot(predicted_prices, label='Predicted Prices')\n",
    "plt.legend()\n",
    "plt.show()"
   ]
  },
  {
   "cell_type": "code",
   "execution_count": null,
   "id": "7be44dd8",
   "metadata": {},
   "outputs": [],
   "source": []
  }
 ],
 "metadata": {
  "kernelspec": {
   "display_name": "Python 3 (ipykernel)",
   "language": "python",
   "name": "python3"
  },
  "language_info": {
   "codemirror_mode": {
    "name": "ipython",
    "version": 3
   },
   "file_extension": ".py",
   "mimetype": "text/x-python",
   "name": "python",
   "nbconvert_exporter": "python",
   "pygments_lexer": "ipython3",
   "version": "3.9.13"
  }
 },
 "nbformat": 4,
 "nbformat_minor": 5
}
